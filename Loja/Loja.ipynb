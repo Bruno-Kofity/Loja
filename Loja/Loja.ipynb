{
  "nbformat": 4,
  "nbformat_minor": 0,
  "metadata": {
    "colab": {
      "name": "Loja.ipynb",
      "provenance": [],
      "collapsed_sections": []
    },
    "kernelspec": {
      "name": "python3",
      "display_name": "Python 3"
    }
  },
  "cells": [
    {
      "cell_type": "code",
      "metadata": {
        "id": "7xYabzW2C86f",
        "outputId": "a4eabf6e-a80b-472f-ee76-e8164be557db",
        "colab": {
          "base_uri": "https://localhost:8080/"
        }
      },
      "source": [
        "print(\"{:^35}\".format (\"LOJAS KOFITY \"))\n",
        "print()\n",
        "preco = float(input(\"Preço das compras: R$\"))\n",
        "print()\n",
        "print(\"FORMAS DE PAGAMENTO\")\n",
        "print(\"[1] à vista no dinheiro/cheque - Desconto de 5%\")\n",
        "print(\"[2] 1x no cartão de crédito - Valor Total\")\n",
        "print(\"[3] 2x no cartão de crédito - Juros de 1%\")\n",
        "print(\"[4] 3x ou mais no cartão de crédito - Juros de 2%\")\n",
        "print()\n",
        "opcao = int(input(\"Qual é a opção? \"))\n",
        "print()\n",
        "if opcao is 1:\n",
        " total1 = preco - (preco * 0.05)\n",
        " print(\"Seu valor da compra é de: R$\", total1)\n",
        "elif opcao is 2:\n",
        "  total2 = preco\n",
        "  print(\"Seu valor da compra é de: R$\", total2)\n",
        "elif opcao is 3:\n",
        "  total3 = preco + (preco * 0.01)\n",
        "  print(\"Sua compra será parcelada em 2x de R$\", (total3 / 2), \"totalizando R$\", total3)\n",
        "elif opcao is 4:\n",
        "  total4 = preco + (preco * 0.02)\n",
        "  totparc = int(input(\"Quantas vezes? \"))\n",
        "  total5 = (total4 / totparc)\n",
        "  print()\n",
        "  print(\"Sua compra será parcelada em\", totparc,\"x de R$\", (total5),\"totalizando R$\", total4)\n",
        "else: \n",
        "  opcao = 0\n",
        "  print(\"Opção inválida. Escolha entre as opções possíveis! \")"
      ],
      "execution_count": 1,
      "outputs": [
        {
          "output_type": "stream",
          "name": "stdout",
          "text": [
            "           LOJAS KOFITY            \n",
            "\n",
            "Preço das compras: R$1500\n",
            "\n",
            "FORMAS DE PAGAMENTO\n",
            "[1] à vista no dinheiro/cheque - Desconto de 5%\n",
            "[2] 1x no cartão de crédito - Valor Total\n",
            "[3] 2x no cartão de crédito - Juros de 1%\n",
            "[4] 3x ou mais no cartão de crédito - Juros de 2%\n",
            "\n",
            "Qual é a opção? 4\n",
            "\n",
            "Quantas vezes? 3\n",
            "\n",
            "Sua compra será parcelada em 3 x de R$ 510.0 totalizando R$ 1530.0\n"
          ]
        }
      ]
    }
  ]
}